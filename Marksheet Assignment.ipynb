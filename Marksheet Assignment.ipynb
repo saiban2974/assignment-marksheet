{
 "cells": [
  {
   "cell_type": "code",
   "execution_count": null,
   "metadata": {},
   "outputs": [
    {
     "name": "stdout",
     "output_type": "stream",
     "text": [
      "Please enter Maths's marks 100\n",
      "Please enter English's marks 99\n",
      "Please enter Physics's marks 70\n",
      "Please enter Chemistry's marks 60\n",
      "Please enter Computer's marks 40\n"
     ]
    },
    {
     "name": "stderr",
     "output_type": "stream",
     "text": [
      "Exception in callback BaseAsyncIOLoop._handle_events(860, 1)\n",
      "handle: <Handle BaseAsyncIOLoop._handle_events(860, 1)>\n",
      "Traceback (most recent call last):\n",
      "  File \"C:\\Program Files (x86)\\Microsoft Visual Studio\\Shared\\Anaconda3_64\\lib\\asyncio\\events.py\", line 145, in _run\n",
      "    self._callback(*self._args)\n",
      "  File \"C:\\Program Files (x86)\\Microsoft Visual Studio\\Shared\\Anaconda3_64\\lib\\site-packages\\tornado\\platform\\asyncio.py\", line 117, in _handle_events\n",
      "    handler_func(fileobj, events)\n",
      "  File \"C:\\Program Files (x86)\\Microsoft Visual Studio\\Shared\\Anaconda3_64\\lib\\site-packages\\tornado\\stack_context.py\", line 276, in null_wrapper\n",
      "    return fn(*args, **kwargs)\n",
      "  File \"C:\\Program Files (x86)\\Microsoft Visual Studio\\Shared\\Anaconda3_64\\lib\\site-packages\\zmq\\eventloop\\zmqstream.py\", line 450, in _handle_events\n",
      "    self._handle_recv()\n",
      "  File \"C:\\Program Files (x86)\\Microsoft Visual Studio\\Shared\\Anaconda3_64\\lib\\site-packages\\zmq\\eventloop\\zmqstream.py\", line 480, in _handle_recv\n",
      "    self._run_callback(callback, msg)\n",
      "  File \"C:\\Program Files (x86)\\Microsoft Visual Studio\\Shared\\Anaconda3_64\\lib\\site-packages\\zmq\\eventloop\\zmqstream.py\", line 432, in _run_callback\n",
      "    callback(*args, **kwargs)\n",
      "  File \"C:\\Program Files (x86)\\Microsoft Visual Studio\\Shared\\Anaconda3_64\\lib\\site-packages\\tornado\\stack_context.py\", line 276, in null_wrapper\n",
      "    return fn(*args, **kwargs)\n",
      "  File \"C:\\Program Files (x86)\\Microsoft Visual Studio\\Shared\\Anaconda3_64\\lib\\site-packages\\ipykernel\\kernelbase.py\", line 283, in dispatcher\n",
      "    return self.dispatch_shell(stream, msg)\n",
      "  File \"C:\\Program Files (x86)\\Microsoft Visual Studio\\Shared\\Anaconda3_64\\lib\\site-packages\\ipykernel\\kernelbase.py\", line 239, in dispatch_shell\n",
      "    sys.stdout.flush()\n",
      "ValueError: I/O operation on closed file.\n"
     ]
    }
   ],
   "source": [
    "import sys\n",
    "\n",
    "mark1 = float(input(\"Please enter Maths's marks \"))\n",
    "mark2 = float(input(\"Please enter English's marks \"))\n",
    "mark3 = float(input(\"Please enter Physics's marks \"))\n",
    "mark4 = float(input(\"Please enter Chemistry's marks \"))\n",
    "mark5 = float(input(\"Please enter Computer's marks \"))\n",
    "\n",
    "total = mark1+mark2+mark3+mark4+mark5\n",
    "average = total/5\n",
    "\n",
    "if(average>=91.0 and average<=100.0):\n",
    "    sys.stdout=open(\"marksheet.txt\",\"a\");\n",
    "    print(\"Your Grade is A+\");\n",
    "    sys.stdout.close();\n",
    "elif(average>=81.0 and average<=90.0):\n",
    "    sys.stdout=open(\"marksheet.txt\",\"a\");\n",
    "    print(\"Your Grade is A\");\n",
    "    sys.stdout.close();\n",
    "elif(average>=71.0 and average<=80.0):\n",
    "    sys.stdout=open(\"marksheet.txt\",\"a\");\n",
    "    print(\"Your Grade is B+\");\n",
    "    sys.stdout.close();\n",
    "elif(average>=61.0 and average<=70.0):\n",
    "    sys.stdout=open(\"marksheet.txt\",\"a\");\n",
    "    print(\"Your Grade is B\");\n",
    "    sys.stdout.close();\n",
    "elif(average>=51.0 and average<=60.0):\n",
    "    sys.stdout=open(\"marksheet.txt\",\"a\");\n",
    "    print(\"Your Grade is C+\");\n",
    "    sys.stdout.close();\n",
    "elif(average>=41.0 and average<=50.0):\n",
    "    sys.stdout=open(\"marksheet.txt\",\"a\");\n",
    "    print(\"Your Grade is C\");\n",
    "    sys.stdout.close();\n",
    "elif(average>=0.0 and average<=40.0):\n",
    "    sys.stdout=open(\"marksheet.txt\",\"a\");\n",
    "    print(\"Your Grade is F\");\n",
    "    sys.stdout.close();\n",
    "else:\n",
    "    print(\"Strange Grade..!!\");  "
   ]
  },
  {
   "cell_type": "code",
   "execution_count": null,
   "metadata": {},
   "outputs": [],
   "source": []
  },
  {
   "cell_type": "code",
   "execution_count": null,
   "metadata": {},
   "outputs": [],
   "source": []
  },
  {
   "cell_type": "code",
   "execution_count": null,
   "metadata": {},
   "outputs": [],
   "source": []
  }
 ],
 "metadata": {
  "kernelspec": {
   "display_name": "Python 3",
   "language": "python",
   "name": "python3"
  },
  "language_info": {
   "codemirror_mode": {
    "name": "ipython",
    "version": 3
   },
   "file_extension": ".py",
   "mimetype": "text/x-python",
   "name": "python",
   "nbconvert_exporter": "python",
   "pygments_lexer": "ipython3",
   "version": "3.6.5"
  }
 },
 "nbformat": 4,
 "nbformat_minor": 2
}
